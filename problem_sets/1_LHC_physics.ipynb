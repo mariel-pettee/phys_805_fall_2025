{
 "cells": [
  {
   "cell_type": "markdown",
   "id": "546a2dcb-3799-4b1a-a996-0ad5ad840c67",
   "metadata": {},
   "source": [
    "# Tau ID w/ an MLP"
   ]
  },
  {
   "cell_type": "markdown",
   "id": "6bf5dbdd-dbf1-41f8-8eca-83139439153e",
   "metadata": {},
   "source": [
    "# Higgs boson search on CMS data w/ an MLP"
   ]
  },
  {
   "cell_type": "code",
   "execution_count": null,
   "id": "a23489b3-de73-4b7f-ae89-6efce65f35d7",
   "metadata": {},
   "outputs": [],
   "source": []
  }
 ],
 "metadata": {
  "kernelspec": {
   "display_name": "phys_805",
   "language": "python",
   "name": "phys_805"
  },
  "language_info": {
   "codemirror_mode": {
    "name": "ipython",
    "version": 3
   },
   "file_extension": ".py",
   "mimetype": "text/x-python",
   "name": "python",
   "nbconvert_exporter": "python",
   "pygments_lexer": "ipython3",
   "version": "3.11.13"
  }
 },
 "nbformat": 4,
 "nbformat_minor": 5
}
