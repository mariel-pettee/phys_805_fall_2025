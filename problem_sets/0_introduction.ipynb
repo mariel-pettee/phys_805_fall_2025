{
 "cells": [
  {
   "cell_type": "markdown",
   "metadata": {},
   "source": [
    "# Problem Set 0: Introduction to training neural networks"
   ]
  },
  {
   "cell_type": "markdown",
   "metadata": {},
   "source": [
    "<a name='section_1'></a>\n",
    "<h2 style=\"border:1px; border-style:solid; padding: 0.25em; color: #FFFFFF; background-color: #1f77b4\">1. Why use Jupyter notebooks?</h2>"
   ]
  },
  {
   "cell_type": "markdown",
   "metadata": {},
   "source": [
    "Jupyter notebooks are a very popular tool used by scientists who work with data. They allow for text comments (i.e. Markdown and/or LaTeX) to co-exist alongside cells of Python code and the output of that code (plots, text, etc.). While they have their drawbacks (see the talk linked below), notebooks are still often used in practice to develop ML methods, even if eventually the model components are put into standalone Python scripts (see e.g. [this template](https://github.com/drivendataorg/cookiecutter-data-science)).\n",
    "\n",
    "- You can add your own cells using the `+` button up at the top, or by hitting `ESC` then `b`. \n",
    "- Use the dropdown in the menu up top to select whether your given cell is `Markdown` or `Code`.\n",
    "\n",
    "I recommend using a local (or remote) install of `Jupyter Lab` as your main interface, which will allow you to open multiple notebooks, Terminal windows, and even code editing pages in a single browser tab. `Google Colab` is an alternative option, though (in my opinion) this has several disadvantages that make it tedious and limited in practice for any compute-intensive research applications. \n",
    "\n",
    "Further reading: \n",
    "- [What is a Jupyter notebook?](https://docs.jupyter.org/en/latest/)\n",
    "- [\"I don't like notebooks.\"](https://youtu.be/7jiPeIFXb6U?si=_JOftBz5CIp5Ve73), a legendary and hilarious take against notebooks by Joel Grus"
   ]
  },
  {
   "cell_type": "markdown",
   "metadata": {},
   "source": [
    "<a name='section_2'></a>\n",
    "<h2 style=\"border:1px; border-style:solid; padding: 0.25em; color: #FFFFFF; background-color: #1f77b4\">2. Installing & importing software packages</h2>"
   ]
  },
  {
   "cell_type": "markdown",
   "metadata": {},
   "source": [
    "### The import command\n",
    "\n",
    "In order to use any of the software packages that extend Python functionality, it is first necessary to add that package using the `import` command. (Note: You may see the terms \"package,\" \"library,\" and \"module\" thrown around; all of these refer to code meant to be reused.)\n",
    "\n",
    "When importing a package, you can specify an alternative name to use when calling the library functions. For this example, we will use the `numpy` package and specify the alias `np` when importing it `import numpy as np` and then use `np.function`.\n",
    "\n",
    "The most foolproof way of including a package like `numpy` is to start every code file that uses it with the command `import numpy as np`. However, when using Jupyter notebooks, either locally or through Colab, it is only necessary to run this command *once* per session. "
   ]
  },
  {
   "cell_type": "markdown",
   "metadata": {},
   "source": [
    "### Installing software packages"
   ]
  },
  {
   "cell_type": "markdown",
   "metadata": {},
   "source": [
    "In data science, we often use external packages that interface with Python code to give it broader abilities. Usually, you have to do this manually using tools including: \n",
    "- `pip`\n",
    "- `conda`\n",
    "- `uv`\n",
    "\n",
    "Everyone develops their own preferences for how to do package management, and you're encouraged to try out a few of these tools in your own time to see what you like best. For this class, I'm assuming you've already used `conda` to create a custom environment to load this notebook. \n",
    "\n",
    "Have you activated the proper Jupyter kernel so that your notebook can \"see\" the packages you've installed in your `conda` environment? Try out the following cell -- if it fails, then your answer is probably \"no\":"
   ]
  },
  {
   "cell_type": "code",
   "execution_count": 2,
   "metadata": {},
   "outputs": [],
   "source": [
    "import numpy as np"
   ]
  },
  {
   "cell_type": "markdown",
   "metadata": {},
   "source": [
    "Let's make sure that our notebook can see our custom `conda` environment. First, we'll need to make sure we've installed `ipykernel`:"
   ]
  },
  {
   "cell_type": "code",
   "execution_count": 3,
   "metadata": {},
   "outputs": [
    {
     "name": "stdout",
     "output_type": "stream",
     "text": [
      "Requirement already satisfied: ipykernel in /Users/mpettee/miniconda3/envs/phys_805/lib/python3.11/site-packages (6.30.1)\n",
      "Requirement already satisfied: appnope>=0.1.2 in /Users/mpettee/miniconda3/envs/phys_805/lib/python3.11/site-packages (from ipykernel) (0.1.4)\n",
      "Requirement already satisfied: comm>=0.1.1 in /Users/mpettee/miniconda3/envs/phys_805/lib/python3.11/site-packages (from ipykernel) (0.2.3)\n",
      "Requirement already satisfied: debugpy>=1.6.5 in /Users/mpettee/miniconda3/envs/phys_805/lib/python3.11/site-packages (from ipykernel) (1.8.16)\n",
      "Requirement already satisfied: ipython>=7.23.1 in /Users/mpettee/miniconda3/envs/phys_805/lib/python3.11/site-packages (from ipykernel) (9.5.0)\n",
      "Requirement already satisfied: jupyter-client>=8.0.0 in /Users/mpettee/miniconda3/envs/phys_805/lib/python3.11/site-packages (from ipykernel) (8.6.3)\n",
      "Requirement already satisfied: jupyter-core!=5.0.*,>=4.12 in /Users/mpettee/miniconda3/envs/phys_805/lib/python3.11/site-packages (from ipykernel) (5.8.1)\n",
      "Requirement already satisfied: matplotlib-inline>=0.1 in /Users/mpettee/miniconda3/envs/phys_805/lib/python3.11/site-packages (from ipykernel) (0.1.7)\n",
      "Requirement already satisfied: nest-asyncio>=1.4 in /Users/mpettee/miniconda3/envs/phys_805/lib/python3.11/site-packages (from ipykernel) (1.6.0)\n",
      "Requirement already satisfied: packaging>=22 in /Users/mpettee/miniconda3/envs/phys_805/lib/python3.11/site-packages (from ipykernel) (25.0)\n",
      "Requirement already satisfied: psutil>=5.7 in /Users/mpettee/miniconda3/envs/phys_805/lib/python3.11/site-packages (from ipykernel) (7.0.0)\n",
      "Requirement already satisfied: pyzmq>=25 in /Users/mpettee/miniconda3/envs/phys_805/lib/python3.11/site-packages (from ipykernel) (27.0.2)\n",
      "Requirement already satisfied: tornado>=6.2 in /Users/mpettee/miniconda3/envs/phys_805/lib/python3.11/site-packages (from ipykernel) (6.5.2)\n",
      "Requirement already satisfied: traitlets>=5.4.0 in /Users/mpettee/miniconda3/envs/phys_805/lib/python3.11/site-packages (from ipykernel) (5.14.3)\n",
      "Requirement already satisfied: decorator in /Users/mpettee/miniconda3/envs/phys_805/lib/python3.11/site-packages (from ipython>=7.23.1->ipykernel) (5.2.1)\n",
      "Requirement already satisfied: ipython-pygments-lexers in /Users/mpettee/miniconda3/envs/phys_805/lib/python3.11/site-packages (from ipython>=7.23.1->ipykernel) (1.1.1)\n",
      "Requirement already satisfied: jedi>=0.16 in /Users/mpettee/miniconda3/envs/phys_805/lib/python3.11/site-packages (from ipython>=7.23.1->ipykernel) (0.19.2)\n",
      "Requirement already satisfied: pexpect>4.3 in /Users/mpettee/miniconda3/envs/phys_805/lib/python3.11/site-packages (from ipython>=7.23.1->ipykernel) (4.9.0)\n",
      "Requirement already satisfied: prompt_toolkit<3.1.0,>=3.0.41 in /Users/mpettee/miniconda3/envs/phys_805/lib/python3.11/site-packages (from ipython>=7.23.1->ipykernel) (3.0.52)\n",
      "Requirement already satisfied: pygments>=2.4.0 in /Users/mpettee/miniconda3/envs/phys_805/lib/python3.11/site-packages (from ipython>=7.23.1->ipykernel) (2.19.2)\n",
      "Requirement already satisfied: stack_data in /Users/mpettee/miniconda3/envs/phys_805/lib/python3.11/site-packages (from ipython>=7.23.1->ipykernel) (0.6.3)\n",
      "Requirement already satisfied: typing_extensions>=4.6 in /Users/mpettee/miniconda3/envs/phys_805/lib/python3.11/site-packages (from ipython>=7.23.1->ipykernel) (4.15.0)\n",
      "Requirement already satisfied: wcwidth in /Users/mpettee/miniconda3/envs/phys_805/lib/python3.11/site-packages (from prompt_toolkit<3.1.0,>=3.0.41->ipython>=7.23.1->ipykernel) (0.2.13)\n",
      "Requirement already satisfied: parso<0.9.0,>=0.8.4 in /Users/mpettee/miniconda3/envs/phys_805/lib/python3.11/site-packages (from jedi>=0.16->ipython>=7.23.1->ipykernel) (0.8.5)\n",
      "Requirement already satisfied: python-dateutil>=2.8.2 in /Users/mpettee/miniconda3/envs/phys_805/lib/python3.11/site-packages (from jupyter-client>=8.0.0->ipykernel) (2.9.0.post0)\n",
      "Requirement already satisfied: platformdirs>=2.5 in /Users/mpettee/miniconda3/envs/phys_805/lib/python3.11/site-packages (from jupyter-core!=5.0.*,>=4.12->ipykernel) (4.4.0)\n",
      "Requirement already satisfied: ptyprocess>=0.5 in /Users/mpettee/miniconda3/envs/phys_805/lib/python3.11/site-packages (from pexpect>4.3->ipython>=7.23.1->ipykernel) (0.7.0)\n",
      "Requirement already satisfied: six>=1.5 in /Users/mpettee/miniconda3/envs/phys_805/lib/python3.11/site-packages (from python-dateutil>=2.8.2->jupyter-client>=8.0.0->ipykernel) (1.17.0)\n",
      "Requirement already satisfied: executing>=1.2.0 in /Users/mpettee/miniconda3/envs/phys_805/lib/python3.11/site-packages (from stack_data->ipython>=7.23.1->ipykernel) (2.2.1)\n",
      "Requirement already satisfied: asttokens>=2.1.0 in /Users/mpettee/miniconda3/envs/phys_805/lib/python3.11/site-packages (from stack_data->ipython>=7.23.1->ipykernel) (3.0.0)\n",
      "Requirement already satisfied: pure-eval in /Users/mpettee/miniconda3/envs/phys_805/lib/python3.11/site-packages (from stack_data->ipython>=7.23.1->ipykernel) (0.2.3)\n",
      "Note: you may need to restart the kernel to use updated packages.\n"
     ]
    }
   ],
   "source": [
    "# note: using %pip or %conda is the recommended way to install packages directly from the notebook\n",
    "%pip install ipykernel"
   ]
  },
  {
   "cell_type": "markdown",
   "metadata": {},
   "source": [
    "Now we can run the following (note that my environment is named `phys_805`, but you should change this to whatever you named your `conda` environment):"
   ]
  },
  {
   "cell_type": "code",
   "execution_count": 7,
   "metadata": {},
   "outputs": [
    {
     "name": "stdout",
     "output_type": "stream",
     "text": [
      "0.00s - Debugger warning: It seems that frozen modules are being used, which may\n",
      "0.00s - make the debugger miss breakpoints. Please pass -Xfrozen_modules=off\n",
      "0.00s - to python to disable frozen modules.\n",
      "0.00s - Note: Debugging will proceed. Set PYDEVD_DISABLE_FILE_VALIDATION=1 to disable this validation.\n",
      "Installed kernelspec phys_805 in /Users/mpettee/Library/Jupyter/kernels/phys_805\n"
     ]
    }
   ],
   "source": [
    "! python -m ipykernel install --user --name phys_805 --display-name \"phys_805\""
   ]
  },
  {
   "cell_type": "markdown",
   "metadata": {},
   "source": [
    "Does the kernel show up in the drop-down list in the upper right corner? Try refreshing your browser -- how about now? \n",
    "\n",
    "Once you've selected the kernel from the drop-down list, try running the following cell again:"
   ]
  },
  {
   "cell_type": "code",
   "execution_count": 8,
   "metadata": {},
   "outputs": [],
   "source": [
    "import numpy as np"
   ]
  },
  {
   "cell_type": "markdown",
   "metadata": {},
   "source": [
    "If that didn't work, make sure you've installed `numpy` in your `conda` env:"
   ]
  },
  {
   "cell_type": "code",
   "execution_count": 9,
   "metadata": {},
   "outputs": [
    {
     "name": "stdout",
     "output_type": "stream",
     "text": [
      "Requirement already satisfied: numpy in /Users/mpettee/miniconda3/envs/phys_805/lib/python3.11/site-packages (2.3.2)\n",
      "Note: you may need to restart the kernel to use updated packages.\n"
     ]
    }
   ],
   "source": [
    "%pip install numpy"
   ]
  },
  {
   "cell_type": "code",
   "execution_count": 11,
   "metadata": {},
   "outputs": [
    {
     "name": "stdout",
     "output_type": "stream",
     "text": [
      "Requirement already satisfied: matplotlib in /Users/mpettee/miniconda3/envs/phys_805/lib/python3.11/site-packages (3.10.6)\n",
      "Requirement already satisfied: pandas in /Users/mpettee/miniconda3/envs/phys_805/lib/python3.11/site-packages (2.3.2)\n",
      "Requirement already satisfied: scikit-learn in /Users/mpettee/miniconda3/envs/phys_805/lib/python3.11/site-packages (1.7.1)\n",
      "Requirement already satisfied: contourpy>=1.0.1 in /Users/mpettee/miniconda3/envs/phys_805/lib/python3.11/site-packages (from matplotlib) (1.3.3)\n",
      "Requirement already satisfied: cycler>=0.10 in /Users/mpettee/miniconda3/envs/phys_805/lib/python3.11/site-packages (from matplotlib) (0.12.1)\n",
      "Requirement already satisfied: fonttools>=4.22.0 in /Users/mpettee/miniconda3/envs/phys_805/lib/python3.11/site-packages (from matplotlib) (4.59.2)\n",
      "Requirement already satisfied: kiwisolver>=1.3.1 in /Users/mpettee/miniconda3/envs/phys_805/lib/python3.11/site-packages (from matplotlib) (1.4.9)\n",
      "Requirement already satisfied: numpy>=1.23 in /Users/mpettee/miniconda3/envs/phys_805/lib/python3.11/site-packages (from matplotlib) (2.3.2)\n",
      "Requirement already satisfied: packaging>=20.0 in /Users/mpettee/miniconda3/envs/phys_805/lib/python3.11/site-packages (from matplotlib) (25.0)\n",
      "Requirement already satisfied: pillow>=8 in /Users/mpettee/miniconda3/envs/phys_805/lib/python3.11/site-packages (from matplotlib) (11.3.0)\n",
      "Requirement already satisfied: pyparsing>=2.3.1 in /Users/mpettee/miniconda3/envs/phys_805/lib/python3.11/site-packages (from matplotlib) (3.2.3)\n",
      "Requirement already satisfied: python-dateutil>=2.7 in /Users/mpettee/miniconda3/envs/phys_805/lib/python3.11/site-packages (from matplotlib) (2.9.0.post0)\n",
      "Requirement already satisfied: pytz>=2020.1 in /Users/mpettee/miniconda3/envs/phys_805/lib/python3.11/site-packages (from pandas) (2025.2)\n",
      "Requirement already satisfied: tzdata>=2022.7 in /Users/mpettee/miniconda3/envs/phys_805/lib/python3.11/site-packages (from pandas) (2025.2)\n",
      "Requirement already satisfied: scipy>=1.8.0 in /Users/mpettee/miniconda3/envs/phys_805/lib/python3.11/site-packages (from scikit-learn) (1.16.1)\n",
      "Requirement already satisfied: joblib>=1.2.0 in /Users/mpettee/miniconda3/envs/phys_805/lib/python3.11/site-packages (from scikit-learn) (1.5.2)\n",
      "Requirement already satisfied: threadpoolctl>=3.1.0 in /Users/mpettee/miniconda3/envs/phys_805/lib/python3.11/site-packages (from scikit-learn) (3.6.0)\n",
      "Requirement already satisfied: six>=1.5 in /Users/mpettee/miniconda3/envs/phys_805/lib/python3.11/site-packages (from python-dateutil>=2.7->matplotlib) (1.17.0)\n",
      "Note: you may need to restart the kernel to use updated packages.\n"
     ]
    }
   ],
   "source": [
    "# note that you can also install multiple packages in the same line\n",
    "%pip install matplotlib pandas scikit-learn"
   ]
  },
  {
   "cell_type": "markdown",
   "metadata": {},
   "source": [
    "<h3>Partial imports</h3>\n",
    "\n",
    "Sometimes you only need a subset of the functions in a library. In that case, it will be faster to restrict what is imported. For example, `import scipy.stats` will only import the statistical functions in the SciPy library, for which you would call `scipy.stats.function`."
   ]
  },
  {
   "cell_type": "markdown",
   "metadata": {},
   "source": [
    "<a name='section_3'></a>\n",
    "<h2 style=\"border:1px; border-style:solid; padding: 0.25em; color: #FFFFFF; background-color: #1f77b4\">3. Working with numpy arrays</h2>"
   ]
  },
  {
   "cell_type": "markdown",
   "metadata": {},
   "source": [
    "<h3>Overview</h3>\n",
    "\n",
    "Data science algorithms very often consist primarily of a variety of matrix computations, so we'll need a way to efficiently work with matrices.\n",
    "\n",
    "The NumPy software package in Python does a variety of numerical matrix computations using very compact and efficient code for handling arrays of data. It is used extensively in many fields requiring numerical analysis, and will be used extensively in this course. You can find general documentation on `numpy` <a href=\"https://docs.scipy.org/doc/numpy/user/quickstart.html\" target=\"_blank\">here</a>.\n",
    "\n",
    "As mentioned above, we will use the convention of abbreviating the name `numpy` to the shorthand `np` via the command `import numpy as np`. Then, we can use `np.function` throughout our code."
   ]
  },
  {
   "cell_type": "markdown",
   "metadata": {},
   "source": [
    "### Lists vs. arrays \n",
    "The fundamental data type in `numpy` is the multidimensional array, and arrays are usually generated from a nested list of values using the `np.array` command. Every `array` has a `shape` attribute which is a list of the sizes of the various dimensions. As described in more detail below, these sizes are specified when an array is created using nested square brackets.\n",
    "\n",
    "In this class, we will mostly use one- and two-dimensional arrays. To create a `numpy` array from a 1D list of numbers, we use the following (notice the difference in the data types):"
   ]
  },
  {
   "cell_type": "code",
   "execution_count": null,
   "metadata": {},
   "outputs": [],
   "source": [
    "import numpy as np\n",
    "\n",
    "my_list = [1, 2, 3, 4, 5]\n",
    "my_list_type = type(my_list).__name__\n",
    "\n",
    "my_array = np.array(my_list)\n",
    "my_array_type = type(my_array).__name__\n",
    "\n",
    "print(f'This is a {my_list_type}: {my_list}')\n",
    "print(f'...but this is an {my_array_type}: {my_array}')"
   ]
  },
  {
   "cell_type": "markdown",
   "metadata": {},
   "source": [
    "Of course, you can also generate numpy arrays without converting a list to a numpy array. Many built-in `numpy` functions do this. For instance:"
   ]
  },
  {
   "cell_type": "code",
   "execution_count": 16,
   "metadata": {},
   "outputs": [
    {
     "name": "stdout",
     "output_type": "stream",
     "text": [
      "print x: [0.   1.75 3.5  5.25 7.  ]\n",
      "type: ndarray\n",
      "shape: (5,)\n"
     ]
    }
   ],
   "source": [
    "x = np.linspace(start=0, stop=7, num=5) # 5 points, evenly spaced, ranging from 0 to 7\n",
    "\n",
    "print('print x:', x)\n",
    "print('type:', type(x).__name__)\n",
    "print('shape:', x.shape)"
   ]
  },
  {
   "cell_type": "code",
   "execution_count": null,
   "metadata": {},
   "outputs": [],
   "source": [
    "y = np.arange(5) # integers going up to 5 (note that it starts counting at 0!)\n",
    "\n",
    "print('print y:', y)\n",
    "print('type:', type(y).__name__)\n",
    "print('shape:', y.shape)"
   ]
  },
  {
   "cell_type": "markdown",
   "metadata": {},
   "source": [
    "<h3>Operations on of Arrays</h3>\n",
    "\n",
    "Note that it is often conventional to use 2D arrays to represent both matrices and vectors.  Although the notations `[[1,2,3]]` and `[1,2,3]` look very similar, some `numpy` functions behave differently depending on which format you use. The first has two dimensions (it's a list of lists), while the second has only one (it's a single list). Using only 2D arrays for both matrices and vectors gives us predictable results from 'numpy' operations.\n",
    "\n",
    "Using 2D arrays for matrices is clear enough, but what about column and row vectors? We will represent a column vector as a $d\\times 1$ array and a row vector as a $1\\times d$\n",
    "array (where we are using the standard \"$\\#$ of rows $\\times$ $\\#$ of columns\" notation).\n",
    "\n",
    "**Column Vector**\n",
    "\n",
    "For example, we will represent the three-element column vector,\n",
    "\n",
    "$$\n",
    "x31 =\n",
    "\\left[\n",
    "\\begin{array}{c}\n",
    "1 \\\\\n",
    "5 \\\\\n",
    "3 \\\\\n",
    "\\end{array}\n",
    "\\right],\n",
    "$$\n",
    "\n",
    "as a $ 3 \\times 1 $ `numpy` array which can be generated using (take note of the \"double\" brackets):\n",
    "\n",
    "$~~~$<tt> x31 = np.array([[1],[5],[3]]), </tt>\n",
    "\n",
    "<br>\n",
    "\n",
    "**Row Vector**\n",
    "\n",
    "The three-element row vector:\n",
    "\n",
    "$$\n",
    "x13 =\n",
    "\\left[ 1, 5, 3 \\right],\n",
    "$$\n",
    "\n",
    "is a $ 1 \\times 3 $ `numpy` array which can be generated using (take note of the different arrangement of \"double\" brackets here):\n",
    "\n",
    "$~~~$<tt> x13 = np.array([[1,5,3]]), </tt>\n",
    "\n",
    "\n",
    "<br>\n",
    "\n",
    "**Transpose**\n",
    "\n",
    "The row vector above can also be generated by transposing the $ 3 \\times 1 $ array:\n",
    "\n",
    "$~~~$<tt> x13 = np.transpose(np.array([[1,5,3]]),</tt>\n",
    "\n",
    "A more compact notation is to use the array attribute <tt> .T </tt>, as in\n",
    "\n",
    "$~~~$<tt> x13 = np.array([[1,5,3]]).T </tt>\n",
    "\n",
    "\n",
    "**NOTE:** The transpose operation does NOT transform the shape of a 1D array with shape (N,). For instance, see what happens in the code below if we try `x3 = np.array([1,5,3]).T`.\n",
    "\n",
    "\n",
    "<br>"
   ]
  },
  {
   "cell_type": "markdown",
   "metadata": {},
   "source": [
    "### Try running the code below:"
   ]
  },
  {
   "cell_type": "code",
   "execution_count": null,
   "metadata": {},
   "outputs": [],
   "source": [
    "x31 = np.array([[1],[5],[3]])\n",
    "x13 = np.array([[1,5,3]])\n",
    "x3 = np.array([1,5,3])\n",
    "\n",
    "print('x31')\n",
    "print(x31)\n",
    "print()\n",
    "\n",
    "print('x13')\n",
    "print(x13)\n",
    "print()\n",
    "\n",
    "print('x3')\n",
    "print(x3)\n",
    "print()\n",
    "\n",
    "print('x13.T (should equal x31)')\n",
    "print(x13.T)\n",
    "print()\n",
    "\n",
    "print('x3.T (will not equal x31)')\n",
    "print(x3.T)\n",
    "print()"
   ]
  },
  {
   "cell_type": "markdown",
   "metadata": {},
   "source": [
    "<h3>Useful Functions</h3>\n",
    "\n",
    "Some of the functions and features you should be familiar with for this course are listed below with links to the corresponding documentation. Note that the page pointed to by each link also describes other related functions. For example, the link for `np.ones` references other functions such as `np.zeros`.\n",
    "\n",
    "* <tt><a href=\"https://docs.scipy.org/doc/numpy/reference/generated/numpy.array.html\" target=\"_blank\">np.array</a></tt> Create an array.\n",
    "* <tt><a href=\"https://docs.scipy.org/doc/numpy/reference/generated/numpy.transpose.html\" target=\"_blank\">np.transpose</a></tt> (and the equivalent method `a.T`) Take the transpose of an array.\n",
    "* <tt><a href=\"https://docs.scipy.org/doc/numpy/reference/generated/numpy.ndarray.shape.html\" target=\"_blank\">np.ndarray.shape</a></tt> Return a list of the dimension sizes of an array.\n",
    "* <tt><a href=\"https://docs.scipy.org/doc/numpy/reference/generated/numpy.dot.html\" target=\"_blank\">np.dot</a></tt> (and the equivalent method `a.dot(b)`) Does a matrix multiplication of the two arrays. This product of two matrices is sometimes denoted  `a @ b`. This notation should not be confused with the term \"dot product\", which can be used to denote $a^T b$. \n",
    "* <tt><a href=\"https://numpy.org/doc/stable/reference/generated/numpy.linalg.inv.html\" target=\"_blank\">np.linalg.inv</a></tt> Find the inverse of an array (only possible for square arrays).\n",
    "* <tt><a href=\"https://numpy.org/doc/stable/reference/generated/numpy.vstack.html\" target=\"_blank\">np.vstack</a></tt> Combines arrays so that the added arrays become new rows in the first array.\n",
    "* <tt><a href=\"https://numpy.org/doc/stable/reference/generated/numpy.ones.html\" target=\"_blank\">np.ones</a></tt> Creates an array filled with \"1\"s.\n",
    "* <tt><a href=\"https://numpy.org/doc/stable/reference/generated/numpy.sqrt.html\" target=\"_blank\">np.sqrt</a></tt> Returns an array containing elements which are the square root of the elements in the original array.\n",
    "* Elementwise operators for matrix arithmetic: `+`, `-`,  `*`, and  `/`. "
   ]
  },
  {
   "cell_type": "markdown",
   "metadata": {},
   "source": [
    "<h3>Array Shapes</h3>\n",
    "\n",
    "Let `A` be a $4\\times 2$ numpy array, `B` be a $4\\times 3$ array, and `C` be a $4\\times 1$ array.  For each of the following expressions, indicate the shape (i.e., the dimensions) of the result as a tuple of integers (<b>recall python tuples use parentheses, not square brackets, which are for lists, and a tuple with just one item  <tt>x</tt> in it is written as <tt>(x,)</tt> with a comma</b>). If the expression is invalid, submit the python string 'none' (lower case and including the single quotes).\n",
    "\n",
    "For example,\n",
    "\n",
    "* If the result array was `[45, 36, 75]`, the shape is `(3,)`\n",
    "* If the result array was `[[1,2,3],[4,5,6]]`, the shape is `(2,3)`\n",
    "\n",
    "**Hint: If you get stuck, code and run these expressions (with array values of your choosing), then print out the shape using `A.shape`**\n",
    "<br>"
   ]
  },
  {
   "cell_type": "markdown",
   "metadata": {},
   "source": [
    "<h3>Slicing & dicing</h3>\n",
    "\n",
    "The shape of the resulting array is different depending on if you use indexing or slicing.\n",
    "\n",
    "<b>Indexing</b> refers to selecting one particular element of an array by using single numbers (the indices) to specify the corresponding row and column.\n",
    "\n",
    "Note that Python uses **zero-indexing**, which means that the first rows and first column are denoted 0, not 1. This is different from R and MATLAB. Because of this counting convention, indexing the 3rd row and 4th column of a matrix `B` would be written `B[2,3]`.\n",
    "\n",
    "Negative numbers are used as indices which count from the end of a row or column. However, because of the difficulty in software of distinguishing `+0` and `-0`, there is no negative equivalent of zero-indexing, so `-1` indicates the last row or column. For example, `B[-1,-1]` indicates the bottom right element (last row and column) in a matrix.\n",
    "\n",
    "<b>Slicing</b> refers to selecting a subset of the array by specifying a range of indices. The notation used for ranges is  `n:m`, where `n` is the index of the initial row or column (with the counting again starting at zero). Contrary to what you might expect, `m` is **not** the index of the final row or column. Instead, that index is `m-1`. So, selecting the 3rd through 4th row and 5th through 7th column of an array would be denoted `A[2:4,4:7]`. Leaving the end of the range blank, for example `1:`, denotes that the range ends at the last row or column in the matrix. Similarly, you can leave the first index blank to indicate a range that starts at the first row or column. This latter option is not really needed since one can start the indicated range with `0:` for any matrix. The output of slicing is another matrix but with a different number of rows and/or columns than the original.\n",
    "\n",
    "Note that you can combine indexing and slicing by selecting a single index for either the row or column and a range for the other one. In this case, the output is a 1D vector, either a single row or a single column.\n",
    "\n",
    "\n",
    "If you're unfamiliar with these terms, you can also look at the official numpy documentation <a href=\"https://numpy.org/doc/stable/reference/arrays.indexing.html\" target=\"_blank\">here</a>.\n",
    "\n",
    "\n",
    "<h3>Practice</h3>\n",
    "\n",
    "In the following questions, let\n",
    "\n",
    "<pre>x = np.array([[5,7,10,14],[2,4,8,9]])</pre>\n",
    "\n",
    "Tell us what the output would be for each of the following expressions. Use brackets `[]` as necessary. If the operation is invalid, submit the python string `'none'`.\n",
    "\n",
    "<br>"
   ]
  },
  {
   "cell_type": "markdown",
   "metadata": {},
   "source": [
    "<a name='problem_x'></a> \n",
    "### <span style=\"border:3px; border-style:solid; padding: 0.15em; border-color: #1f77b4; color: #1f77b4;\">Problem: Indexing </span>"
   ]
  },
  {
   "cell_type": "code",
   "execution_count": 21,
   "metadata": {},
   "outputs": [
    {
     "name": "stdout",
     "output_type": "stream",
     "text": [
      "top_left =\n",
      " [[1 2]\n",
      " [5 6]]\n",
      "last_col = [ 4  8 12 16]\n",
      "every_other_row =\n",
      " [[ 1  2  3  4]\n",
      " [ 9 10 11 12]]\n"
     ]
    }
   ],
   "source": [
    "x = np.arange(1, 17).reshape(4, 4)\n",
    "# x =\n",
    "# [[ 1  2  3  4]\n",
    "#  [ 5  6  7  8]\n",
    "#  [ 9 10 11 12]\n",
    "#  [13 14 15 16]]\n",
    "\n",
    "### fill me in:\n",
    "### Slice the top-left 2×2 block into top_left\n",
    "### Slice the last column into last_col\n",
    "### Slice every other row into every_other_row\n",
    "\n",
    "print(\"top_left =\\n\", top_left)\n",
    "print(\"last_col =\", last_col)\n",
    "print(\"every_other_row =\\n\", every_other_row)\n",
    "\n",
    "### Expected outputs:\n",
    "### top_left = [[1 2]\n",
    "###             [5 6]]\n",
    "### last_col = [ 4  8 12 16]\n",
    "### every_other_row = [[ 1  2  3  4]\n",
    "###                    [ 9 10 11 12]]"
   ]
  },
  {
   "cell_type": "markdown",
   "metadata": {},
   "source": [
    "<a name='problem_stacking'></a> \n",
    "### <span style=\"border:3px; border-style:solid; padding: 0.15em; border-color: #1f77b4; color: #1f77b4;\">Problem: Stacking & shaping arrays </span>"
   ]
  },
  {
   "cell_type": "code",
   "execution_count": 20,
   "metadata": {},
   "outputs": [
    {
     "name": "stdout",
     "output_type": "stream",
     "text": [
      "vstacked: \n",
      " [[1 2 3]\n",
      " [4 5 6]]\n",
      "hstacked: \n",
      " [1 2 3 4 5 6]\n",
      "vstacked shape:  (2, 3)\n",
      "hstacked shape:  (6,)\n"
     ]
    }
   ],
   "source": [
    "a = np.array([1, 2, 3])\n",
    "b = np.array([4, 5, 6])\n",
    "\n",
    "### fill me in: \n",
    "vstacked = np.vstack([a,b])\n",
    "hstacked = np.hstack([a,b])\n",
    "\n",
    "### stack `a` and `b` vertically into a 2×3 array called `vstacked`\n",
    "### stack `a` and `b` horizontally into a 1×6 array called `hstacked`\n",
    "\n",
    "print(\"vstacked: \\n\", vstacked)\n",
    "print(\"hstacked: \\n\", hstacked)\n",
    "\n",
    "print(\"vstacked shape: \", vstacked.shape)\n",
    "print(\"hstacked shape: \", hstacked.shape)\n",
    "\n",
    "### Expected shapes:\n",
    "### vstacked.shape == (2, 3)\n",
    "### hstacked.shape == (6,)"
   ]
  },
  {
   "cell_type": "markdown",
   "metadata": {},
   "source": [
    "<a name='section_4'></a>\n",
    "<h2 style=\"border:1px; border-style:solid; padding: 0.25em; color: #FFFFFF; background-color: #1f77b4\">4. Plotting</h2>"
   ]
  },
  {
   "cell_type": "markdown",
   "metadata": {},
   "source": [
    "Let's configure our plotting settings so that our plots look nice."
   ]
  },
  {
   "cell_type": "code",
   "execution_count": 13,
   "metadata": {},
   "outputs": [
    {
     "data": {
      "image/png": "[encoded data removed]",
      "text/plain": [
       "<Figure size 640x480 with 1 Axes>"
      ]
     },
     "metadata": {},
     "output_type": "display_data"
    }
   ],
   "source": [
    "import matplotlib.pyplot as plt\n",
    "\n",
    "x = np.linspace(0,10,10)\n",
    "y = np.linspace(0,10,10)\n",
    "plt.plot(x,y)\n",
    "plt.show()"
   ]
  },
  {
   "cell_type": "markdown",
   "metadata": {},
   "source": [
    "This doesn't look very high-resolution. We can fix this by seeting our plotting defaults:"
   ]
  },
  {
   "cell_type": "code",
   "execution_count": 14,
   "metadata": {},
   "outputs": [],
   "source": [
    "import numpy as np\n",
    "import matplotlib.pyplot as plt\n",
    "\n",
    "# set plot resolution\n",
    "%config InlineBackend.figure_format = 'retina'\n",
    "\n",
    "# set default figure size\n",
    "plt.rcParams['figure.figsize'] = (9,6)"
   ]
  },
  {
   "cell_type": "code",
   "execution_count": 15,
   "metadata": {},
   "outputs": [
    {
     "data": {
      "image/png": "[encoded data removed]",
      "text/plain": [
       "<Figure size 900x600 with 1 Axes>"
      ]
     },
     "metadata": {
      "image/png": {
       "height": 505,
       "width": 744
      }
     },
     "output_type": "display_data"
    }
   ],
   "source": [
    "x = np.linspace(0,10,11)\n",
    "y = np.linspace(0,10,11)\n",
    "plt.plot(x,y)\n",
    "plt.show()"
   ]
  },
  {
   "cell_type": "markdown",
   "metadata": {},
   "source": [
    "What else is missing from the plot above? Spend some time making it look better."
   ]
  },
  {
   "cell_type": "markdown",
   "metadata": {},
   "source": [
    "<a name='section_5'></a>\n",
    "<h2 style=\"border:1px; border-style:solid; padding: 0.25em; color: #FFFFFF; background-color: #1f77b4\">5. Setting up a training dataset</h2>"
   ]
  },
  {
   "cell_type": "markdown",
   "metadata": {},
   "source": [
    "Okay, now that we've covered some data science basics, let's play with some (fake) data!"
   ]
  },
  {
   "cell_type": "markdown",
   "metadata": {},
   "source": [
    "<a name='section_6'></a>\n",
    "<h2 style=\"border:1px; border-style:solid; padding: 0.25em; color: #FFFFFF; background-color: #1f77b4\">6. Defining a neural network model</h2>"
   ]
  },
  {
   "cell_type": "markdown",
   "metadata": {},
   "source": [
    "<a name='section_7'></a>\n",
    "<h2 style=\"border:1px; border-style:solid; padding: 0.25em; color: #FFFFFF; background-color: #1f77b4\">7. Training</h2>"
   ]
  },
  {
   "cell_type": "markdown",
   "metadata": {},
   "source": [
    "Let's play with tracking our model training using `wandb`.\n",
    "\n",
    "https://docs.wandb.ai/guides/track/jupyter/ "
   ]
  },
  {
   "cell_type": "code",
   "execution_count": 22,
   "metadata": {},
   "outputs": [
    {
     "name": "stdout",
     "output_type": "stream",
     "text": [
      "Note: you may need to restart the kernel to use updated packages.\n"
     ]
    }
   ],
   "source": [
    "%pip install wandb -qqq"
   ]
  },
  {
   "cell_type": "code",
   "execution_count": 25,
   "metadata": {},
   "outputs": [
    {
     "data": {
      "text/plain": [
       "True"
      ]
     },
     "execution_count": 25,
     "metadata": {},
     "output_type": "execute_result"
    }
   ],
   "source": [
    "import wandb\n",
    "wandb.login()"
   ]
  },
  {
   "cell_type": "code",
   "execution_count": null,
   "metadata": {},
   "outputs": [],
   "source": [
    "wandb.init(\n",
    "    project=\"phys-805-pset-0\",\n",
    "    config={\n",
    "        \"batch_size\": 128,\n",
    "        \"learning_rate\": 0.01,\n",
    "        \"dataset\": \"gaussians\",\n",
    "    },\n",
    ")"
   ]
  },
  {
   "cell_type": "markdown",
   "metadata": {},
   "source": [
    "<a name='section_8'></a>\n",
    "<h2 style=\"border:1px; border-style:solid; padding: 0.25em; color: #FFFFFF; background-color: #1f77b4\">8. Evaluating model performance</h2>"
   ]
  },
  {
   "cell_type": "code",
   "execution_count": null,
   "metadata": {},
   "outputs": [],
   "source": [
    "- define a baseline\n",
    "- evaluate on the test set"
   ]
  },
  {
   "cell_type": "markdown",
   "metadata": {},
   "source": [
    "(After this... UDL notebooks?)"
   ]
  },
  {
   "cell_type": "code",
   "execution_count": null,
   "metadata": {},
   "outputs": [],
   "source": []
  }
 ],
 "metadata": {
  "colab": {
   "authorship_tag": "ABX9TyNjh80VUTQo5GkMNUc0DRQc",
   "provenance": []
  },
  "kernelspec": {
   "display_name": "phys_805",
   "language": "python",
   "name": "phys_805"
  },
  "language_info": {
   "codemirror_mode": {
    "name": "ipython",
    "version": 3
   },
   "file_extension": ".py",
   "mimetype": "text/x-python",
   "name": "python",
   "nbconvert_exporter": "python",
   "pygments_lexer": "ipython3",
   "version": "3.11.13"
  }
 },
 "nbformat": 4,
 "nbformat_minor": 4
}
