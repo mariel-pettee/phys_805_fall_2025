{
 "cells": [
  {
   "cell_type": "markdown",
   "metadata": {},
   "source": [
    "# Problem Set 0: Introduction to training neural networks"
   ]
  },
  {
   "cell_type": "markdown",
   "metadata": {},
   "source": [
    "<a name='section_1'></a>\n",
    "<h2 style=\"border:1px; border-style:solid; padding: 0.25em; color: #FFFFFF; background-color: #1f77b4\">1. Setting up a training dataset</h2>"
   ]
  },
  {
   "cell_type": "markdown",
   "metadata": {},
   "source": [
    "Okay, now that we've covered some data science basics, let's play with some (fake) data!"
   ]
  },
  {
   "cell_type": "markdown",
   "metadata": {},
   "source": [
    "<a name='section_2'></a>\n",
    "<h2 style=\"border:1px; border-style:solid; padding: 0.25em; color: #FFFFFF; background-color: #1f77b4\">2. Defining a neural network model</h2>"
   ]
  },
  {
   "cell_type": "markdown",
   "metadata": {},
   "source": [
    "<a name='section_3'></a>\n",
    "<h2 style=\"border:1px; border-style:solid; padding: 0.25em; color: #FFFFFF; background-color: #1f77b4\">3. Training</h2>"
   ]
  },
  {
   "cell_type": "markdown",
   "metadata": {},
   "source": [
    "Let's play with tracking our model training using `wandb`.\n",
    "\n",
    "https://docs.wandb.ai/guides/track/jupyter/ "
   ]
  },
  {
   "cell_type": "code",
   "execution_count": 22,
   "metadata": {},
   "outputs": [
    {
     "name": "stdout",
     "output_type": "stream",
     "text": [
      "Note: you may need to restart the kernel to use updated packages.\n"
     ]
    }
   ],
   "source": [
    "%pip install wandb -qqq"
   ]
  },
  {
   "cell_type": "code",
   "execution_count": 25,
   "metadata": {},
   "outputs": [
    {
     "data": {
      "text/plain": [
       "True"
      ]
     },
     "execution_count": 25,
     "metadata": {},
     "output_type": "execute_result"
    }
   ],
   "source": [
    "import wandb\n",
    "wandb.login()"
   ]
  },
  {
   "cell_type": "code",
   "execution_count": null,
   "metadata": {},
   "outputs": [],
   "source": [
    "wandb.init(\n",
    "    project=\"phys-805-test\",\n",
    "    config={\n",
    "        \"batch_size\": 128,\n",
    "        \"learning_rate\": 0.01,\n",
    "        \"dataset\": \"gaussians\",\n",
    "    },\n",
    ")"
   ]
  },
  {
   "cell_type": "markdown",
   "metadata": {},
   "source": [
    "<a name='section_4'></a>\n",
    "<h2 style=\"border:1px; border-style:solid; padding: 0.25em; color: #FFFFFF; background-color: #1f77b4\">4. Evaluating model performance</h2>"
   ]
  },
  {
   "cell_type": "code",
   "execution_count": null,
   "metadata": {},
   "outputs": [],
   "source": [
    "- define a baseline\n",
    "- evaluate on the test set"
   ]
  },
  {
   "cell_type": "markdown",
   "metadata": {},
   "source": [
    "(After this... UDL notebooks?)"
   ]
  },
  {
   "cell_type": "code",
   "execution_count": null,
   "metadata": {},
   "outputs": [],
   "source": []
  }
 ],
 "metadata": {
  "colab": {
   "authorship_tag": "ABX9TyNjh80VUTQo5GkMNUc0DRQc",
   "provenance": []
  },
  "kernelspec": {
   "display_name": "phys_805",
   "language": "python",
   "name": "phys_805"
  },
  "language_info": {
   "codemirror_mode": {
    "name": "ipython",
    "version": 3
   },
   "file_extension": ".py",
   "mimetype": "text/x-python",
   "name": "python",
   "nbconvert_exporter": "python",
   "pygments_lexer": "ipython3",
   "version": "3.11.8"
  }
 },
 "nbformat": 4,
 "nbformat_minor": 4
}
