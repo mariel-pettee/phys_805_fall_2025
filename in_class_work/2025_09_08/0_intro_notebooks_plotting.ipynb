{
 "cells": [
  {
   "cell_type": "markdown",
   "metadata": {},
   "source": [
    "# Problem Set 0: Introduction to Jupyter, numpy, matplotlib"
   ]
  },
  {
   "cell_type": "markdown",
   "metadata": {},
   "source": [
    "<a name='section_1'></a>\n",
    "<h2 style=\"border:1px; border-style:solid; padding: 0.25em; color: #FFFFFF; background-color: #1f77b4\">1. Why use Jupyter notebooks?</h2>"
   ]
  },
  {
   "cell_type": "markdown",
   "metadata": {},
   "source": [
    "Jupyter notebooks are a very popular tool used by scientists who work with data. They allow for text comments (i.e. Markdown and/or LaTeX) to co-exist alongside cells of Python code and the output of that code (plots, text, etc.). While they have their drawbacks (see the talk linked below), notebooks are still often used in practice to develop ML methods, even if eventually the model components are put into standalone Python scripts (see e.g. [this template](https://github.com/drivendataorg/cookiecutter-data-science)).\n",
    "\n",
    "- You can add your own cells using the `+` button up at the top, or by hitting `ESC` then `b`. \n",
    "- Use the dropdown in the menu up top to select whether your given cell is `Markdown` or `Code`.\n",
    "\n",
    "I recommend using a local (or remote) install of `Jupyter Lab` as your main interface, which will allow you to open multiple notebooks, Terminal windows, and even code editing pages in a single browser tab. `Google Colab` is an alternative option, though (in my opinion) this has several disadvantages that make it tedious and limited in practice for any compute-intensive research applications. \n",
    "\n",
    "Further reading: \n",
    "- [What is a Jupyter notebook?](https://docs.jupyter.org/en/latest/)\n",
    "- [\"I don't like notebooks.\"](https://youtu.be/7jiPeIFXb6U?si=_JOftBz5CIp5Ve73), a legendary and hilarious take against notebooks by Joel Grus"
   ]
  },
  {
   "cell_type": "markdown",
   "metadata": {},
   "source": [
    "<a name='section_2'></a>\n",
    "<h2 style=\"border:1px; border-style:solid; padding: 0.25em; color: #FFFFFF; background-color: #1f77b4\">2. Installing & importing software packages</h2>"
   ]
  },
  {
   "cell_type": "markdown",
   "metadata": {},
   "source": [
    "### The import command\n",
    "\n",
    "In order to use any of the software packages that extend Python functionality, it is first necessary to add that package using the `import` command. (Note: You may see the terms \"package,\" \"library,\" and \"module\" thrown around; all of these refer to code meant to be reused.)\n",
    "\n",
    "When importing a package, you can specify an alternative name to use when calling the library functions. For this example, we will use the `numpy` package and specify the alias `np` when importing it `import numpy as np` and then use `np.function`.\n",
    "\n",
    "The most foolproof way of including a package like `numpy` is to start every code file that uses it with the command `import numpy as np`. However, when using Jupyter notebooks, either locally or through Colab, it is only necessary to run this command *once* per session. "
   ]
  },
  {
   "cell_type": "markdown",
   "metadata": {},
   "source": [
    "### Installing software packages"
   ]
  },
  {
   "cell_type": "markdown",
   "metadata": {},
   "source": [
    "In data science, we often use external packages that interface with Python code to give it broader abilities. Usually, you have to do this manually using tools including: \n",
    "- `pip`\n",
    "- `conda`\n",
    "- `uv`\n",
    "\n",
    "Everyone develops their own preferences for how to do package management, and you're encouraged to try out a few of these tools in your own time to see what you like best. For this class, I'm recommending you use `conda` to create a custom environment because I feel it is the most legible as a pedagogical tool and it has widespread documentation and support. Power users who find themselves making many environments regularly might prefer to use `mamba` or `uv` instead.\n",
    "\n",
    "#### Creating a conda environment: \n",
    "1. Open a Terminal window \n",
    "\n",
    "Have you activated the proper Jupyter kernel so that your notebook can \"see\" the packages you've installed in your `conda` environment? Try out the following cell -- if it fails, then your answer is probably \"no\":"
   ]
  },
  {
   "cell_type": "code",
   "execution_count": null,
   "metadata": {},
   "outputs": [],
   "source": [
    "import numpy as np"
   ]
  },
  {
   "cell_type": "markdown",
   "metadata": {},
   "source": [
    "Let's make sure that our notebook can see our custom `conda` environment. First, we'll need to make sure we've installed `ipykernel`:"
   ]
  },
  {
   "cell_type": "code",
   "execution_count": null,
   "metadata": {},
   "outputs": [],
   "source": [
    "# note: using %pip or %conda is the recommended way to install packages directly from the notebook\n",
    "%pip install ipykernel"
   ]
  },
  {
   "cell_type": "markdown",
   "metadata": {},
   "source": [
    "Now we can run the following (note that my environment is named `phys_805`, but you should change this to whatever you named your `conda` environment):"
   ]
  },
  {
   "cell_type": "code",
   "execution_count": null,
   "metadata": {},
   "outputs": [],
   "source": [
    "! python -m ipykernel install --user --name phys_805 --display-name \"phys_805\""
   ]
  },
  {
   "cell_type": "markdown",
   "metadata": {},
   "source": [
    "Does the kernel show up in the drop-down list in the upper right corner? Try refreshing your browser -- how about now? \n",
    "\n",
    "Once you've selected the kernel from the drop-down list, try running the following cell again:"
   ]
  },
  {
   "cell_type": "code",
   "execution_count": null,
   "metadata": {},
   "outputs": [],
   "source": [
    "import numpy as np"
   ]
  },
  {
   "cell_type": "markdown",
   "metadata": {},
   "source": [
    "If that still didn't work, make sure you've installed `numpy` in your `conda` env:"
   ]
  },
  {
   "cell_type": "code",
   "execution_count": null,
   "metadata": {},
   "outputs": [],
   "source": [
    "%pip install numpy"
   ]
  },
  {
   "cell_type": "code",
   "execution_count": null,
   "metadata": {},
   "outputs": [],
   "source": [
    "# note that you can also install multiple packages in the same line\n",
    "%pip install matplotlib pandas scikit-learn"
   ]
  },
  {
   "cell_type": "markdown",
   "metadata": {},
   "source": [
    "<h3>Partial imports</h3>\n",
    "\n",
    "Sometimes you only need a subset of the functions in a library. In that case, it will be faster to restrict what is imported. For example, `import scipy.stats` will only import the statistical functions in the SciPy library, for which you would call `scipy.stats.function`."
   ]
  },
  {
   "cell_type": "markdown",
   "metadata": {},
   "source": [
    "<a name='section_3'></a>\n",
    "<h2 style=\"border:1px; border-style:solid; padding: 0.25em; color: #FFFFFF; background-color: #1f77b4\">3. Working with numpy arrays</h2>"
   ]
  },
  {
   "cell_type": "markdown",
   "metadata": {},
   "source": [
    "<h3>Overview</h3>\n",
    "\n",
    "Data science algorithms very often consist primarily of a variety of matrix computations, so we'll need a way to efficiently work with matrices.\n",
    "\n",
    "The NumPy software package in Python does a variety of numerical matrix computations using very compact and efficient code for handling arrays of data. It is used extensively in many fields requiring numerical analysis, and will be used extensively in this course. You can find general documentation on `numpy` <a href=\"https://docs.scipy.org/doc/numpy/user/quickstart.html\" target=\"_blank\">here</a>.\n",
    "\n",
    "As mentioned above, we will use the convention of abbreviating the name `numpy` to the shorthand `np` via the command `import numpy as np`. Then, we can use `np.function` throughout our code."
   ]
  },
  {
   "cell_type": "markdown",
   "metadata": {},
   "source": [
    "### Lists vs. arrays \n",
    "The fundamental data type in `numpy` is the multidimensional array, and arrays are usually generated from a nested list of values using the `np.array` command. Every `array` has a `shape` attribute which is a list of the sizes of the various dimensions. As described in more detail below, these sizes are specified when an array is created using nested square brackets.\n",
    "\n",
    "In this class, we will mostly use one- and two-dimensional arrays. To create a `numpy` array from a 1D list of numbers, we use the following (notice the difference in the data types):"
   ]
  },
  {
   "cell_type": "code",
   "execution_count": null,
   "metadata": {},
   "outputs": [],
   "source": [
    "import numpy as np\n",
    "\n",
    "my_list = [1, 2, 3, 4, 5]\n",
    "my_list_type = type(my_list).__name__\n",
    "\n",
    "my_array = np.array(my_list)\n",
    "my_array_type = type(my_array).__name__\n",
    "\n",
    "print(f'This is a {my_list_type}: {my_list}')\n",
    "print(f'...but this is an {my_array_type}: {my_array}')"
   ]
  },
  {
   "cell_type": "markdown",
   "metadata": {},
   "source": [
    "Of course, you can also generate numpy arrays without converting a list to a numpy array. Many built-in `numpy` functions do this. For instance:"
   ]
  },
  {
   "cell_type": "code",
   "execution_count": null,
   "metadata": {},
   "outputs": [],
   "source": [
    "x = np.linspace(start=0, stop=7, num=5) # 5 points, evenly spaced, ranging from 0 to 7\n",
    "\n",
    "print('print x:', x)\n",
    "print('type:', type(x).__name__)\n",
    "print('shape:', x.shape)"
   ]
  },
  {
   "cell_type": "code",
   "execution_count": null,
   "metadata": {},
   "outputs": [],
   "source": [
    "y = np.arange(5) # integers going up to 5 (note that it starts counting at 0!)\n",
    "\n",
    "print('print y:', y)\n",
    "print('type:', type(y).__name__)\n",
    "print('shape:', y.shape)"
   ]
  },
  {
   "cell_type": "markdown",
   "metadata": {},
   "source": [
    "<h3>Operations on of Arrays</h3>\n",
    "\n",
    "Note that it is often conventional to use 2D arrays to represent both matrices and vectors.  Although the notations `[[1,2,3]]` and `[1,2,3]` look very similar, some `numpy` functions behave differently depending on which format you use. The first has two dimensions (it's a list of lists), while the second has only one (it's a single list). Using only 2D arrays for both matrices and vectors gives us predictable results from `numpy` operations.\n",
    "\n",
    "Using 2D arrays for matrices is clear enough, but what about column and row vectors? We will represent a column vector as a $d\\times 1$ array and a row vector as a $1\\times d$\n",
    "array (where we are using the standard \"$\\#$ of rows $\\times$ $\\#$ of columns\" notation).\n",
    "\n",
    "**Column Vector**\n",
    "\n",
    "For example, we will represent the three-element column vector,\n",
    "\n",
    "$$\n",
    "x31 =\n",
    "\\left[\n",
    "\\begin{array}{c}\n",
    "1 \\\\\n",
    "5 \\\\\n",
    "3 \\\\\n",
    "\\end{array}\n",
    "\\right],\n",
    "$$\n",
    "\n",
    "as a $ 3 \\times 1 $ `numpy` array which can be generated using (take note of the \"double\" brackets):\n",
    "\n",
    "$~~~$<tt> x31 = np.array([[1],[5],[3]]), </tt>\n",
    "\n",
    "<br>\n",
    "\n",
    "**Row Vector**\n",
    "\n",
    "The three-element row vector:\n",
    "\n",
    "$$\n",
    "x13 =\n",
    "\\left[ 1, 5, 3 \\right],\n",
    "$$\n",
    "\n",
    "is a $ 1 \\times 3 $ `numpy` array which can be generated using (take note of the different arrangement of \"double\" brackets here):\n",
    "\n",
    "$~~~$<tt> x13 = np.array([[1,5,3]]), </tt>\n",
    "\n",
    "\n",
    "<br>\n",
    "\n",
    "**Transpose**\n",
    "\n",
    "The row vector above can also be generated by transposing the $ 3 \\times 1 $ array:\n",
    "\n",
    "$~~~$<tt> x13 = np.transpose(np.array([[1,5,3]]),</tt>\n",
    "\n",
    "A more compact notation is to use the array attribute <tt> .T </tt>, as in\n",
    "\n",
    "$~~~$<tt> x13 = np.array([[1,5,3]]).T </tt>\n",
    "\n",
    "\n",
    "**NOTE:** The transpose operation does NOT transform the shape of a 1D array with shape (N,). For instance, see what happens in the code below if we try `x3 = np.array([1,5,3]).T`.\n",
    "\n",
    "\n",
    "<br>"
   ]
  },
  {
   "cell_type": "markdown",
   "metadata": {},
   "source": [
    "### Try running the code below:"
   ]
  },
  {
   "cell_type": "code",
   "execution_count": null,
   "metadata": {},
   "outputs": [],
   "source": [
    "x31 = np.array([[1],[5],[3]])\n",
    "x13 = np.array([[1,5,3]])\n",
    "x3 = np.array([1,5,3])\n",
    "\n",
    "print('x31')\n",
    "print(x31)\n",
    "print()\n",
    "\n",
    "print('x13')\n",
    "print(x13)\n",
    "print()\n",
    "\n",
    "print('x3')\n",
    "print(x3)\n",
    "print()\n",
    "\n",
    "print('x13.T (should equal x31)')\n",
    "print(x13.T)\n",
    "print()\n",
    "\n",
    "print('x3.T (will not equal x31)')\n",
    "print(x3.T)\n",
    "print()"
   ]
  },
  {
   "cell_type": "markdown",
   "metadata": {},
   "source": [
    "<h3>Useful Functions</h3>\n",
    "\n",
    "Some of the functions and features you should be familiar with for this course are listed below with links to the corresponding documentation. Note that the page pointed to by each link also describes other related functions. For example, the link for `np.ones` references other functions such as `np.zeros`.\n",
    "\n",
    "* <tt><a href=\"https://docs.scipy.org/doc/numpy/reference/generated/numpy.array.html\" target=\"_blank\">np.array</a></tt> Create an array.\n",
    "* <tt><a href=\"https://docs.scipy.org/doc/numpy/reference/generated/numpy.transpose.html\" target=\"_blank\">np.transpose</a></tt> (and the equivalent method `a.T`) Take the transpose of an array.\n",
    "* <tt><a href=\"https://docs.scipy.org/doc/numpy/reference/generated/numpy.ndarray.shape.html\" target=\"_blank\">np.ndarray.shape</a></tt> Return a list of the dimension sizes of an array.\n",
    "* <tt><a href=\"https://docs.scipy.org/doc/numpy/reference/generated/numpy.dot.html\" target=\"_blank\">np.dot</a></tt> (and the equivalent method `a.dot(b)`) Does a matrix multiplication of the two arrays. This product of two matrices is sometimes denoted  `a @ b`. This notation should not be confused with the term \"dot product\", which can be used to denote $a^T b$. \n",
    "* <tt><a href=\"https://numpy.org/doc/stable/reference/generated/numpy.linalg.inv.html\" target=\"_blank\">np.linalg.inv</a></tt> Find the inverse of an array (only possible for square arrays).\n",
    "* <tt><a href=\"https://numpy.org/doc/stable/reference/generated/numpy.vstack.html\" target=\"_blank\">np.vstack</a></tt> Combines arrays so that the added arrays become new rows in the first array.\n",
    "* <tt><a href=\"https://numpy.org/doc/stable/reference/generated/numpy.ones.html\" target=\"_blank\">np.ones</a></tt> Creates an array filled with \"1\"s.\n",
    "* <tt><a href=\"https://numpy.org/doc/stable/reference/generated/numpy.sqrt.html\" target=\"_blank\">np.sqrt</a></tt> Returns an array containing elements which are the square root of the elements in the original array.\n",
    "* Elementwise operators for matrix arithmetic: `+`, `-`,  `*`, and  `/`. "
   ]
  },
  {
   "cell_type": "markdown",
   "metadata": {},
   "source": [
    "<h3>Slicing & dicing</h3>\n",
    "\n",
    "The shape of the resulting array is different depending on if you use indexing or slicing.\n",
    "\n",
    "<b>Indexing</b> refers to selecting one particular element of an array by using single numbers (the indices) to specify the corresponding row and column.\n",
    "\n",
    "Note that Python uses **zero-indexing**, which means that the first rows and first column are denoted 0, not 1. This is different from R and MATLAB. Because of this counting convention, indexing the 3rd row and 4th column of a matrix `B` would be written `B[2,3]`.\n",
    "\n",
    "Negative numbers are used as indices which count from the end of a row or column. However, because of the difficulty in software of distinguishing `+0` and `-0`, there is no negative equivalent of zero-indexing, so `-1` indicates the last row or column. For example, `B[-1,-1]` indicates the bottom right element (last row and column) in a matrix.\n",
    "\n",
    "<b>Slicing</b> refers to selecting a subset of the array by specifying a range of indices. The notation used for ranges is  `n:m`, where `n` is the index of the initial row or column (with the counting again starting at zero). Contrary to what you might expect, `m` is **not** the index of the final row or column. Instead, that index is `m-1`. So, selecting the 3rd through 4th row and 5th through 7th column of an array would be denoted `A[2:4,4:7]`. Leaving the end of the range blank, for example `1:`, denotes that the range ends at the last row or column in the matrix. Similarly, you can leave the first index blank to indicate a range that starts at the first row or column. This latter option is not really needed since one can start the indicated range with `0:` for any matrix. The output of slicing is another matrix but with a different number of rows and/or columns than the original.\n",
    "\n",
    "Note that you can combine indexing and slicing by selecting a single index for either the row or column and a range for the other one. In this case, the output is a 1D vector, either a single row or a single column.\n",
    "\n",
    "\n",
    "If you're unfamiliar with these terms, you can also look at the official numpy documentation <a href=\"https://numpy.org/doc/stable/reference/arrays.indexing.html\" target=\"_blank\">here</a>."
   ]
  },
  {
   "cell_type": "markdown",
   "metadata": {},
   "source": [
    "<a name='problem_x'></a> \n",
    "### <span style=\"border:3px; border-style:solid; padding: 0.15em; border-color: #1f77b4; color: #1f77b4;\">Problem: Indexing </span>"
   ]
  },
  {
   "cell_type": "markdown",
   "metadata": {},
   "source": [
    "Consider the 2D array: \n",
    "\n",
    "<pre>x = np.array([[5,7,10,14],[2,4,8,9]])</pre>\n",
    "\n",
    "Write down your guesses for what the output would be for each of the following expressions WITHOUT using code. Use brackets `[]` as necessary. Then, check your work. \n",
    "\n",
    "1. `x[1,2]`\n",
    "2. `x[1,8]`\n",
    "3. `x[0:1,1:3]`\n",
    "4. `x[:1,1:20]`\n",
    "5. `x[1:,:2]`\n",
    "6. `x[1,1:3]`\n",
    "7. `x[:,1:2]`\n",
    "8. `x[:,1]`\n",
    "9. `x[-1, :]`"
   ]
  },
  {
   "cell_type": "markdown",
   "metadata": {},
   "source": [
    "<a name='problem_x'></a> \n",
    "### <span style=\"border:3px; border-style:solid; padding: 0.15em; border-color: #1f77b4; color: #1f77b4;\">Problem: Slicing </span>"
   ]
  },
  {
   "cell_type": "code",
   "execution_count": null,
   "metadata": {},
   "outputs": [],
   "source": [
    "x = np.arange(1, 17).reshape(4, 4)\n",
    "# x =\n",
    "# [[ 1  2  3  4]\n",
    "#  [ 5  6  7  8]\n",
    "#  [ 9 10 11 12]\n",
    "#  [13 14 15 16]]\n",
    "\n",
    "### fill me in:\n",
    "### Slice the top-left 2×2 block into top_left\n",
    "### Slice the last column into last_col\n",
    "### Slice every other row into every_other_row\n",
    "\n",
    "print(\"top_left =\\n\", top_left)\n",
    "print(\"last_col =\", last_col)\n",
    "print(\"every_other_row =\\n\", every_other_row)\n",
    "\n",
    "### Expected outputs:\n",
    "### top_left = [[1 2]\n",
    "###             [5 6]]\n",
    "### last_col = [ 4  8 12 16]\n",
    "### every_other_row = [[ 1  2  3  4]\n",
    "###                    [ 9 10 11 12]]"
   ]
  },
  {
   "cell_type": "markdown",
   "metadata": {},
   "source": [
    "<a name='problem_stacking'></a> \n",
    "### <span style=\"border:3px; border-style:solid; padding: 0.15em; border-color: #1f77b4; color: #1f77b4;\">Problem: Stacking & shaping arrays </span>"
   ]
  },
  {
   "cell_type": "code",
   "execution_count": null,
   "metadata": {},
   "outputs": [],
   "source": [
    "a = np.array([1, 2, 3])\n",
    "b = np.array([4, 5, 6])\n",
    "\n",
    "### fill me in: \n",
    "### stack `a` and `b` vertically into a 2×3 array called `vstacked`\n",
    "### stack `a` and `b` horizontally into a 1×6 array called `hstacked`\n",
    "\n",
    "print(\"vstacked: \\n\", vstacked)\n",
    "print(\"hstacked: \\n\", hstacked)\n",
    "\n",
    "print(\"vstacked shape: \", vstacked.shape)\n",
    "print(\"hstacked shape: \", hstacked.shape)\n",
    "\n",
    "### Expected shapes:\n",
    "### vstacked.shape == (2, 3)\n",
    "### hstacked.shape == (6,)"
   ]
  },
  {
   "cell_type": "markdown",
   "metadata": {},
   "source": [
    "Something that comes up frequently in ML is \"flattening\" arrays -- i.e. even if you have multidimensional inputs, you might choose to represent it as a long 1D vector to your model. Practice flattening the stacked arrays you just made and verifying their shapes:"
   ]
  },
  {
   "cell_type": "code",
   "execution_count": null,
   "metadata": {},
   "outputs": [],
   "source": [
    "### fill me in: \n",
    "### flatten both arrays into 1D arrays called `vflat` and `hflat`. \n",
    "### (look this up if you don't know the right numpy command!)\n",
    "\n",
    "print(\"vflat: \", vflat)\n",
    "print(\"hflat: \", hflat)\n",
    "\n",
    "print(\"vflat shape: \", vflat.shape)\n",
    "print(\"hflat shape: \", hflat.shape)\n",
    "\n",
    "### Expected shapes:\n",
    "### vflat.shape == (6,)\n",
    "### hflat.shape == (6,)"
   ]
  },
  {
   "cell_type": "markdown",
   "metadata": {},
   "source": [
    "<a name='section_4'></a>\n",
    "<h2 style=\"border:1px; border-style:solid; padding: 0.25em; color: #FFFFFF; background-color: #1f77b4\">4. Plotting</h2>"
   ]
  },
  {
   "cell_type": "markdown",
   "metadata": {},
   "source": [
    "Let's configure our plotting settings so that our plots look nice."
   ]
  },
  {
   "cell_type": "code",
   "execution_count": null,
   "metadata": {},
   "outputs": [],
   "source": [
    "import matplotlib.pyplot as plt\n",
    "\n",
    "x = np.linspace(start=-4, stop=4, num=5) # make an array of 5 numbers, evenly spaced from -4 to 4\n",
    "y = np.sin(x) # take the sine of each element of x, to get a new array, y\n",
    "\n",
    "plt.plot(x,y)\n",
    "plt.show()"
   ]
  },
  {
   "cell_type": "markdown",
   "metadata": {},
   "source": [
    "This doesn't look very high-resolution. We can fix this by seeting our plotting defaults:"
   ]
  },
  {
   "cell_type": "code",
   "execution_count": null,
   "metadata": {},
   "outputs": [],
   "source": [
    "import numpy as np\n",
    "import matplotlib.pyplot as plt\n",
    "\n",
    "# set plot resolution\n",
    "%config InlineBackend.figure_format = 'retina'\n",
    "\n",
    "# set default figure size\n",
    "plt.rcParams['figure.figsize'] = (9,6)"
   ]
  },
  {
   "cell_type": "code",
   "execution_count": null,
   "metadata": {},
   "outputs": [],
   "source": [
    "x = np.linspace(start=-4, stop=4, num=5) # make an array of 5 numbers, evenly spaced from -4 to 4\n",
    "y = np.sin(x) # take the sine of each element of x, to get a new array, y\n",
    "\n",
    "plt.plot(x,y)\n",
    "plt.show()"
   ]
  },
  {
   "cell_type": "markdown",
   "metadata": {},
   "source": [
    "What else is missing from the plot above? Spend some time making it look better. \n",
    "\n",
    "Then, save it as a PDF. (Feel free to look up how to do this!)"
   ]
  },
  {
   "cell_type": "markdown",
   "metadata": {},
   "source": [
    "#### Slightly more advanced plots"
   ]
  },
  {
   "cell_type": "markdown",
   "metadata": {},
   "source": [
    "Ok, now let's plot a few distributions, a sine, a cosine, and a normal distribution generated using the `scipy` stats function. Note that we did not import the entire `scipy` library, just the `scipy.stats` functions. \n",
    "\n",
    "To get smoother looking plots, we now generate an array with 100 points instead of just 5. Importantly, we also label everything to ensure that the plot is more readable. As you can see above, a plot generated with just the `pt.plot()` and `pt.show()` commands has numerical labels on the axes but nothing else.\n",
    "\n",
    "While it's not the focus of this course, it is important to follow *good plotting etiquette* when you generate a final plot.\n",
    "\n",
    "In particular, you should:\n",
    "\n",
    "- Label all axes\n",
    "- Label all lines with a legend (if more than one)\n",
    "- Make sure the plot is readable:\n",
    " - The axis ranges are the right size so the plot is not cut off and also does not have excess empty space around the edges\n",
    " - A grid aligned with the tick marks makes it easy to read off values from the plot, but it optional\n",
    " - Font sizes are large enough to be legible even when shrunk down to a small size in your paper\n",
    "\n",
    "This makes it much easier for other people to understand what you're showing! "
   ]
  },
  {
   "cell_type": "code",
   "execution_count": null,
   "metadata": {},
   "outputs": [],
   "source": [
    "import scipy.stats as stats"
   ]
  },
  {
   "cell_type": "code",
   "execution_count": null,
   "metadata": {},
   "outputs": [],
   "source": [
    "### define an array\n",
    "x = np.linspace(start=-4, stop=4, num=100)\n",
    "\n",
    "### let y be a normal distribution from scipy\n",
    "mu = 0\n",
    "std = 1\n",
    "y = stats.norm.pdf(x, mu, std) \n",
    "\n",
    "### plot your functions \n",
    "plt.plot(x, np.sin(x), label=r'$\\text{sin}(x)$')\n",
    "plt.plot(x, np.cos(x), label=r'$\\text{cos}(x)$')\n",
    "plt.plot(x, y,label='normal distribution')\n",
    "\n",
    "### labels, title, legend, etc.\n",
    "plt.title('Simple Plots of Common Functions', fontsize=15)\n",
    "plt.legend(loc='lower right', fontsize = 15)\n",
    "plt.xlabel('x', fontsize=15) \n",
    "plt.ylabel('f(x)', fontsize=15)\n",
    "plt.ylim(-1.5,1.5)\n",
    "\n",
    "### tick label sizes\n",
    "plt.xticks(fontsize=12)\n",
    "plt.yticks(fontsize=12)\n",
    "\n",
    "### add a grid\n",
    "plt.grid()"
   ]
  },
  {
   "cell_type": "markdown",
   "metadata": {},
   "source": [
    "In the future, you can put a cell like this at the top of your notebooks to set your default desired parameters:"
   ]
  },
  {
   "cell_type": "code",
   "execution_count": null,
   "metadata": {},
   "outputs": [],
   "source": [
    "### set plot resolution\n",
    "%config InlineBackend.figure_format = 'retina'\n",
    "\n",
    "### set default figure parameters\n",
    "plt.rcParams['figure.figsize'] = (9,6)\n",
    "\n",
    "medium_size = 12\n",
    "large_size = 15\n",
    "\n",
    "plt.rc('font', size=medium_size)          # default text sizes\n",
    "plt.rc('xtick', labelsize=medium_size)    # xtick labels\n",
    "plt.rc('ytick', labelsize=medium_size)    # ytick labels\n",
    "plt.rc('legend', fontsize=medium_size)    # legend\n",
    "plt.rc('axes', titlesize=large_size)      # axes title\n",
    "plt.rc('axes', labelsize=large_size)      # x and y labels\n",
    "plt.rc('figure', titlesize=large_size)    # figure title"
   ]
  }
 ],
 "metadata": {
  "colab": {
   "authorship_tag": "ABX9TyNjh80VUTQo5GkMNUc0DRQc",
   "provenance": []
  },
  "kernelspec": {
   "display_name": "phys_805",
   "language": "python",
   "name": "phys_805"
  },
  "language_info": {
   "codemirror_mode": {
    "name": "ipython",
    "version": 3
   },
   "file_extension": ".py",
   "mimetype": "text/x-python",
   "name": "python",
   "nbconvert_exporter": "python",
   "pygments_lexer": "ipython3",
   "version": "3.11.8"
  }
 },
 "nbformat": 4,
 "nbformat_minor": 4
}
